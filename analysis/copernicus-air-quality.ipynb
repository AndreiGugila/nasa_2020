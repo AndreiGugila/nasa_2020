{
 "cells": [
  {
   "cell_type": "markdown",
   "source": [
    "## Introduction\n",
    "\n",
    "Preliminary analysis air quality."
   ],
   "metadata": {
    "collapsed": false
   }
  },
  {
   "cell_type": "code",
   "execution_count": 1,
   "outputs": [],
   "source": [
    "import pandas as pd\n",
    "import numpy as np\n",
    "import os\n",
    "import matplotlib.pyplot as plt\n",
    "import seaborn as sns \n",
    "import datetime as dt\n",
    "\n",
    "%matplotlib inline\n",
    "import warnings\n",
    "warnings.filterwarnings(\"ignore\")"
   ],
   "metadata": {
    "collapsed": false,
    "pycharm": {
     "name": "#%%\n",
     "is_executing": false
    }
   }
  },
  {
   "cell_type": "code",
   "execution_count": 5,
   "outputs": [],
   "source": [
    "mapp_df = pd.read_csv(os.path.join(\"..\", \n",
    "                                   \"data\", \n",
    "                                   \"CopernicusAtmosphere-air-quality-covid19-response\", \n",
    "                                   \"CAMS_AQ_LOCATIONS_V1.csv\")\n",
    "                      )\n",
    "\n",
    "aq20_df = pd.read_csv(os.path.join(\"..\", \n",
    "                                   \"data\", \n",
    "                                   \"CopernicusAtmosphere-air-quality-covid19-response\", \n",
    "                                   \"cams_air_quality_analysis_2020.csv\")\n",
    "                      )\n",
    "\n",
    "aq19_df = pd.read_csv(os.path.join(\"..\", \n",
    "                                   \"data\", \n",
    "                                   \"CopernicusAtmosphere-air-quality-covid19-response\", \n",
    "                                   \"cams_air_quality_analysis_2019.csv\")\n",
    "                      )"
   ],
   "metadata": {
    "collapsed": false,
    "pycharm": {
     "name": "#%%\n",
     "is_executing": false
    }
   }
  },
  {
   "cell_type": "code",
   "execution_count": 11,
   "outputs": [],
   "source": [
    "# the air quality data is at city level per day\n",
    "# transform it to country level per month?!\n",
    "mapp_df = mapp_df.rename(columns = {'id':'city_id'})\n",
    "aq_city = pd.concat([aq19_df, aq20_df])\n",
    "aq_ext = pd.merge(aq_city, mapp_df, how='inner', on='city_id' )\n",
    "aq_ext['month_year'] = pd.to_datetime(aq_ext['basetime']).dt.to_period('M')"
   ],
   "metadata": {
    "collapsed": false,
    "pycharm": {
     "name": "#%%\n",
     "is_executing": false
    }
   }
  },
  {
   "cell_type": "code",
   "execution_count": 30,
   "outputs": [],
   "source": [
    "# agg_col = {'NO2':['mean','std'],\n",
    "#            'O3':['mean','std'],\n",
    "#            'PM10':['mean','std'],\n",
    "#            'PM2.5':['mean','std']\n",
    "#            }\n",
    "\n",
    "agg_col = {'NO2':['mean'],\n",
    "           'O3':['mean'],\n",
    "           'PM10':['mean'],\n",
    "           'PM2.5':['mean']\n",
    "           }\n",
    "aq_country = aq_ext.set_index(['country', 'month_year']).groupby(level=[0,1]).agg(agg_col)"
   ],
   "metadata": {
    "collapsed": false,
    "pycharm": {
     "name": "#%%\n",
     "is_executing": false
    }
   }
  },
  {
   "cell_type": "code",
   "execution_count": 31,
   "outputs": [
    {
     "data": {
      "text/plain": "                          NO2         O3    PM10     PM2.5\n                         mean       mean    mean      mean\ncountry month_year                                        \nDenmark 2019-11     13.644667  29.774667  11.581  8.442333",
      "text/html": "<div>\n<style scoped>\n    .dataframe tbody tr th:only-of-type {\n        vertical-align: middle;\n    }\n\n    .dataframe tbody tr th {\n        vertical-align: top;\n    }\n\n    .dataframe thead tr th {\n        text-align: left;\n    }\n\n    .dataframe thead tr:last-of-type th {\n        text-align: right;\n    }\n</style>\n<table border=\"1\" class=\"dataframe\">\n  <thead>\n    <tr>\n      <th></th>\n      <th></th>\n      <th>NO2</th>\n      <th>O3</th>\n      <th>PM10</th>\n      <th>PM2.5</th>\n    </tr>\n    <tr>\n      <th></th>\n      <th></th>\n      <th>mean</th>\n      <th>mean</th>\n      <th>mean</th>\n      <th>mean</th>\n    </tr>\n    <tr>\n      <th>country</th>\n      <th>month_year</th>\n      <th></th>\n      <th></th>\n      <th></th>\n      <th></th>\n    </tr>\n  </thead>\n  <tbody>\n    <tr>\n      <th>Denmark</th>\n      <th>2019-11</th>\n      <td>13.644667</td>\n      <td>29.774667</td>\n      <td>11.581</td>\n      <td>8.442333</td>\n    </tr>\n  </tbody>\n</table>\n</div>"
     },
     "metadata": {},
     "output_type": "execute_result",
     "execution_count": 31
    }
   ],
   "source": [
    "#aq_ext.columns\n",
    "aq_country.columns\n",
    "aq_country.sample()"
   ],
   "metadata": {
    "collapsed": false,
    "pycharm": {
     "name": "#%%\n",
     "is_executing": false
    }
   }
  },
  {
   "cell_type": "code",
   "execution_count": 32,
   "outputs": [],
   "source": [
    "aq_country.to_csv(os.path.join(\"..\", \n",
    "                               \"data\", \n",
    "                               \"processed\", \n",
    "                               \"copernicus-air-quality.csv\")\n",
    "                  )\n"
   ],
   "metadata": {
    "collapsed": false,
    "pycharm": {
     "name": "#%%\n",
     "is_executing": false
    }
   }
  }
 ],
 "metadata": {
  "kernelspec": {
   "name": "python3",
   "language": "python",
   "display_name": "Python 3"
  },
  "language_info": {
   "codemirror_mode": {
    "name": "ipython",
    "version": 2
   },
   "file_extension": ".py",
   "mimetype": "text/x-python",
   "name": "python",
   "nbconvert_exporter": "python",
   "pygments_lexer": "ipython2",
   "version": "2.7.6"
  },
  "pycharm": {
   "stem_cell": {
    "cell_type": "raw",
    "source": [],
    "metadata": {
     "collapsed": false
    }
   }
  }
 },
 "nbformat": 4,
 "nbformat_minor": 0
}
{
 "cells": [
  {
   "cell_type": "markdown",
   "metadata": {},
   "source": [
    "## Introduction"
   ]
  },
  {
   "cell_type": "code",
   "execution_count": 1,
   "metadata": {},
   "outputs": [],
   "source": [
    "import pandas as pd\n",
    "import numpy as np\n",
    "import os\n",
    "import matplotlib.pyplot as plt\n",
    "import seaborn as sns \n",
    "import datetime as dt\n",
    "import folium\n",
    "from folium.plugins import HeatMap, HeatMapWithTime\n",
    "%matplotlib inline\n",
    "import warnings\n",
    "warnings.filterwarnings(\"ignore\")"
   ]
  },
  {
   "cell_type": "code",
   "execution_count": 4,
   "metadata": {},
   "outputs": [],
   "source": [
    "data_df = pd.read_csv(os.path.join(\"..\", \"data\", \"data-europa-eu-euodp\", \"ei_etea19_m.tsv\"), sep='\\t')"
   ]
  },
  {
   "cell_type": "code",
   "execution_count": 5,
   "metadata": {},
   "outputs": [
    {
     "data": {
      "text/plain": [
       "(3915, 256)"
      ]
     },
     "execution_count": 5,
     "metadata": {},
     "output_type": "execute_result"
    }
   ],
   "source": [
    "data_df.shape"
   ]
  },
  {
   "cell_type": "code",
   "execution_count": 7,
   "metadata": {},
   "outputs": [
    {
     "data": {
      "text/html": [
       "<div>\n",
       "<style scoped>\n",
       "    .dataframe tbody tr th:only-of-type {\n",
       "        vertical-align: middle;\n",
       "    }\n",
       "\n",
       "    .dataframe tbody tr th {\n",
       "        vertical-align: top;\n",
       "    }\n",
       "\n",
       "    .dataframe thead th {\n",
       "        text-align: right;\n",
       "    }\n",
       "</style>\n",
       "<table border=\"1\" class=\"dataframe\">\n",
       "  <thead>\n",
       "    <tr style=\"text-align: right;\">\n",
       "      <th></th>\n",
       "      <th>stk_flow,unit,partner,indic,geo\\time</th>\n",
       "      <th>2020M03</th>\n",
       "      <th>2020M02</th>\n",
       "      <th>2020M01</th>\n",
       "      <th>2019M12</th>\n",
       "      <th>2019M11</th>\n",
       "      <th>2019M10</th>\n",
       "      <th>2019M09</th>\n",
       "      <th>2019M08</th>\n",
       "      <th>2019M07</th>\n",
       "      <th>...</th>\n",
       "      <th>1999M10</th>\n",
       "      <th>1999M09</th>\n",
       "      <th>1999M08</th>\n",
       "      <th>1999M07</th>\n",
       "      <th>1999M06</th>\n",
       "      <th>1999M05</th>\n",
       "      <th>1999M04</th>\n",
       "      <th>1999M03</th>\n",
       "      <th>1999M02</th>\n",
       "      <th>1999M01</th>\n",
       "    </tr>\n",
       "  </thead>\n",
       "  <tbody>\n",
       "    <tr>\n",
       "      <td>0</td>\n",
       "      <td>BAL_RT,IVOL-NSA,EXT_EA19,ET-CAP,AT</td>\n",
       "      <td>:</td>\n",
       "      <td>:</td>\n",
       "      <td>72.9</td>\n",
       "      <td>107.3</td>\n",
       "      <td>90.6</td>\n",
       "      <td>107.4</td>\n",
       "      <td>83.0</td>\n",
       "      <td>75.5</td>\n",
       "      <td>83.7</td>\n",
       "      <td>...</td>\n",
       "      <td>:</td>\n",
       "      <td>:</td>\n",
       "      <td>:</td>\n",
       "      <td>:</td>\n",
       "      <td>:</td>\n",
       "      <td>:</td>\n",
       "      <td>:</td>\n",
       "      <td>:</td>\n",
       "      <td>:</td>\n",
       "      <td>:</td>\n",
       "    </tr>\n",
       "    <tr>\n",
       "      <td>1</td>\n",
       "      <td>BAL_RT,IVOL-NSA,EXT_EA19,ET-CAP,BE</td>\n",
       "      <td>:</td>\n",
       "      <td>:</td>\n",
       "      <td>92.6</td>\n",
       "      <td>106.9</td>\n",
       "      <td>102.1</td>\n",
       "      <td>94.9</td>\n",
       "      <td>101.7</td>\n",
       "      <td>89.8</td>\n",
       "      <td>105.7</td>\n",
       "      <td>...</td>\n",
       "      <td>:</td>\n",
       "      <td>:</td>\n",
       "      <td>:</td>\n",
       "      <td>:</td>\n",
       "      <td>:</td>\n",
       "      <td>:</td>\n",
       "      <td>:</td>\n",
       "      <td>:</td>\n",
       "      <td>:</td>\n",
       "      <td>:</td>\n",
       "    </tr>\n",
       "    <tr>\n",
       "      <td>2</td>\n",
       "      <td>BAL_RT,IVOL-NSA,EXT_EA19,ET-CAP,BG</td>\n",
       "      <td>:</td>\n",
       "      <td>:</td>\n",
       "      <td>102.9</td>\n",
       "      <td>104.3</td>\n",
       "      <td>110.8</td>\n",
       "      <td>119.2</td>\n",
       "      <td>124.6</td>\n",
       "      <td>146.3</td>\n",
       "      <td>139.0</td>\n",
       "      <td>...</td>\n",
       "      <td>:</td>\n",
       "      <td>:</td>\n",
       "      <td>:</td>\n",
       "      <td>:</td>\n",
       "      <td>:</td>\n",
       "      <td>:</td>\n",
       "      <td>:</td>\n",
       "      <td>:</td>\n",
       "      <td>:</td>\n",
       "      <td>:</td>\n",
       "    </tr>\n",
       "    <tr>\n",
       "      <td>3</td>\n",
       "      <td>BAL_RT,IVOL-NSA,EXT_EA19,ET-CAP,CY</td>\n",
       "      <td>:</td>\n",
       "      <td>:</td>\n",
       "      <td>50.0</td>\n",
       "      <td>150.5</td>\n",
       "      <td>158.3</td>\n",
       "      <td>267.0</td>\n",
       "      <td>48.5</td>\n",
       "      <td>292.9</td>\n",
       "      <td>80.5</td>\n",
       "      <td>...</td>\n",
       "      <td>:</td>\n",
       "      <td>:</td>\n",
       "      <td>:</td>\n",
       "      <td>:</td>\n",
       "      <td>:</td>\n",
       "      <td>:</td>\n",
       "      <td>:</td>\n",
       "      <td>:</td>\n",
       "      <td>:</td>\n",
       "      <td>:</td>\n",
       "    </tr>\n",
       "    <tr>\n",
       "      <td>4</td>\n",
       "      <td>BAL_RT,IVOL-NSA,EXT_EA19,ET-CAP,CZ</td>\n",
       "      <td>:</td>\n",
       "      <td>:</td>\n",
       "      <td>85.1</td>\n",
       "      <td>96.0</td>\n",
       "      <td>83.9</td>\n",
       "      <td>80.6</td>\n",
       "      <td>94.5</td>\n",
       "      <td>91.2</td>\n",
       "      <td>99.9</td>\n",
       "      <td>...</td>\n",
       "      <td>:</td>\n",
       "      <td>:</td>\n",
       "      <td>:</td>\n",
       "      <td>:</td>\n",
       "      <td>:</td>\n",
       "      <td>:</td>\n",
       "      <td>:</td>\n",
       "      <td>:</td>\n",
       "      <td>:</td>\n",
       "      <td>:</td>\n",
       "    </tr>\n",
       "  </tbody>\n",
       "</table>\n",
       "<p>5 rows × 256 columns</p>\n",
       "</div>"
      ],
      "text/plain": [
       "  stk_flow,unit,partner,indic,geo\\time 2020M03  2020M02   2020M01   2019M12   \\\n",
       "0   BAL_RT,IVOL-NSA,EXT_EA19,ET-CAP,AT       :        :       72.9     107.3   \n",
       "1   BAL_RT,IVOL-NSA,EXT_EA19,ET-CAP,BE       :        :       92.6     106.9   \n",
       "2   BAL_RT,IVOL-NSA,EXT_EA19,ET-CAP,BG       :        :      102.9     104.3   \n",
       "3   BAL_RT,IVOL-NSA,EXT_EA19,ET-CAP,CY       :        :       50.0     150.5   \n",
       "4   BAL_RT,IVOL-NSA,EXT_EA19,ET-CAP,CZ       :        :       85.1      96.0   \n",
       "\n",
       "   2019M11   2019M10   2019M09   2019M08   2019M07   ...  1999M10   1999M09   \\\n",
       "0      90.6     107.4      83.0      75.5      83.7  ...        :         :    \n",
       "1     102.1      94.9     101.7      89.8     105.7  ...        :         :    \n",
       "2     110.8     119.2     124.6     146.3     139.0  ...        :         :    \n",
       "3     158.3     267.0      48.5     292.9      80.5  ...        :         :    \n",
       "4      83.9      80.6      94.5      91.2      99.9  ...        :         :    \n",
       "\n",
       "  1999M08  1999M07   1999M06   1999M05   1999M04   1999M03   1999M02   \\\n",
       "0       :        :         :         :         :         :         :    \n",
       "1       :        :         :         :         :         :         :    \n",
       "2       :        :         :         :         :         :         :    \n",
       "3       :        :         :         :         :         :         :    \n",
       "4       :        :         :         :         :         :         :    \n",
       "\n",
       "   1999M01   \n",
       "0        :   \n",
       "1        :   \n",
       "2        :   \n",
       "3        :   \n",
       "4        :   \n",
       "\n",
       "[5 rows x 256 columns]"
      ]
     },
     "execution_count": 7,
     "metadata": {},
     "output_type": "execute_result"
    }
   ],
   "source": [
    "data_df.head()"
   ]
  },
  {
   "cell_type": "code",
   "execution_count": 13,
   "metadata": {},
   "outputs": [
    {
     "data": {
      "text/plain": [
       "Index(['stk_flow,unit,partner,indic,geo\\time', '2020M03 ', '2020M02 ',\n",
       "       '2020M01 ', '2019M12 ', '2019M11 ', '2019M10 ', '2019M09 ', '2019M08 ',\n",
       "       '2019M07 ',\n",
       "       ...\n",
       "       '1999M10 ', '1999M09 ', '1999M08 ', '1999M07 ', '1999M06 ', '1999M05 ',\n",
       "       '1999M04 ', '1999M03 ', '1999M02 ', '1999M01 '],\n",
       "      dtype='object', length=256)"
      ]
     },
     "execution_count": 13,
     "metadata": {},
     "output_type": "execute_result"
    }
   ],
   "source": [
    "data_df.columns"
   ]
  },
  {
   "cell_type": "code",
   "execution_count": 19,
   "metadata": {},
   "outputs": [
    {
     "name": "stdout",
     "output_type": "stream",
     "text": [
      "<class 'pandas.core.frame.DataFrame'>\n",
      "RangeIndex: 3915 entries, 0 to 3914\n",
      "Data columns (total 3 columns):\n",
      "2020M03     3915 non-null object\n",
      "2020M02     3915 non-null object\n",
      "2020M01     3915 non-null float64\n",
      "dtypes: float64(1), object(2)\n",
      "memory usage: 91.9+ KB\n"
     ]
    }
   ],
   "source": [
    "data_df[['2020M03 ', '2020M02 ', '2020M01 ']].info()"
   ]
  },
  {
   "cell_type": "code",
   "execution_count": 20,
   "metadata": {},
   "outputs": [
    {
     "data": {
      "text/plain": [
       "2020M03       11\n",
       "2020M02      115\n",
       "2020M01     1777\n",
       "dtype: int64"
      ]
     },
     "execution_count": 20,
     "metadata": {},
     "output_type": "execute_result"
    }
   ],
   "source": [
    "data_df[['2020M03 ', '2020M02 ', '2020M01 ']].nunique()"
   ]
  },
  {
   "cell_type": "code",
   "execution_count": 22,
   "metadata": {},
   "outputs": [
    {
     "data": {
      "text/plain": [
       ":            3905\n",
       "165048.8        1\n",
       "-8.9            1\n",
       "-9.0            1\n",
       "193256.1        1\n",
       "-6.2            1\n",
       "23481.8         1\n",
       "28207.3         1\n",
       "157256.7        1\n",
       "180738.4        1\n",
       "-10.0           1\n",
       "Name: 2020M03 , dtype: int64"
      ]
     },
     "execution_count": 22,
     "metadata": {},
     "output_type": "execute_result"
    }
   ],
   "source": [
    "data_df['2020M03 '].value_counts()"
   ]
  },
  {
   "cell_type": "code",
   "execution_count": 23,
   "metadata": {},
   "outputs": [
    {
     "data": {
      "text/plain": [
       ":           3780\n",
       "-1.8           4\n",
       "1.2            3\n",
       "102.2          3\n",
       "0.0            3\n",
       "            ... \n",
       "108.5          1\n",
       "103.0          1\n",
       "43887.6        1\n",
       "8387.4         1\n",
       "1.6            1\n",
       "Name: 2020M02 , Length: 115, dtype: int64"
      ]
     },
     "execution_count": 23,
     "metadata": {},
     "output_type": "execute_result"
    }
   ],
   "source": [
    "data_df['2020M02 '].value_counts()"
   ]
  },
  {
   "cell_type": "code",
   "execution_count": 24,
   "metadata": {},
   "outputs": [
    {
     "data": {
      "text/plain": [
       " 0.8       24\n",
       " 0.7       24\n",
       "-1.0       21\n",
       " 1.5       20\n",
       " 0.3       20\n",
       "           ..\n",
       " 2450.9     1\n",
       " 130.6      1\n",
       " 132.5      1\n",
       " 90.0       1\n",
       " 50.0       1\n",
       "Name: 2020M01 , Length: 1777, dtype: int64"
      ]
     },
     "execution_count": 24,
     "metadata": {},
     "output_type": "execute_result"
    }
   ],
   "source": [
    "data_df['2020M01 '].value_counts()"
   ]
  },
  {
   "cell_type": "markdown",
   "metadata": {},
   "source": [
    "Note: the data does not contains recent (2020, April, May) columns and for Jan, Feb, March 2020  there are missing data."
   ]
  },
  {
   "cell_type": "code",
   "execution_count": null,
   "metadata": {},
   "outputs": [],
   "source": []
  }
 ],
 "metadata": {
  "kernelspec": {
   "display_name": "Python 3",
   "language": "python",
   "name": "python3"
  },
  "language_info": {
   "codemirror_mode": {
    "name": "ipython",
    "version": 3
   },
   "file_extension": ".py",
   "mimetype": "text/x-python",
   "name": "python",
   "nbconvert_exporter": "python",
   "pygments_lexer": "ipython3",
   "version": "3.7.4"
  }
 },
 "nbformat": 4,
 "nbformat_minor": 2
}
